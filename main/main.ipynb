{
 "cells": [
  {
   "cell_type": "code",
   "execution_count": 1,
   "metadata": {},
   "outputs": [],
   "source": [
    "import modelframe as mf\n",
    "import models as ms\n",
    "import numpy as np\n",
    "import torch\n",
    "import matplotlib.pyplot as plt\n",
    "\n",
    "from matplotlib.ticker import (MultipleLocator, AutoMinorLocator)\n",
    "import os\n",
    "\n",
    "import plotutilities as pu\n",
    "import datautilities as du"
   ]
  },
  {
   "cell_type": "markdown",
   "metadata": {},
   "source": [
    "### Binary Network\n",
    "Uses a binary classification: the signal corresponds to a gravitational wave or a \"glitch\" which originates from other cosmic events or noise."
   ]
  },
  {
   "cell_type": "code",
   "execution_count": 2,
   "metadata": {},
   "outputs": [],
   "source": [
    "binary_model_directory = \"../model/model-binary-weighted-001\"\n",
    "\n",
    "binary_features, binary_labels = du.read_in_data(\"../data/dataset_all_H1_bootstrap_O3a.npy\", {0:0,1:1,2:1,3:1,4:1,5:1,6:1})\n",
    "\n",
    "os.makedirs(f\"{binary_model_directory}/figures\", exist_ok=True)\n",
    "\n",
    "def run_binary_network_weighted():\n",
    "    \n",
    "\n",
    "   \n",
    "\n",
    "    binary_model = ms.GlitchClassifier(6, 32, 2)\n",
    "\n",
    "    binary_frame = mf.GlitchModel(binary_model, binary_features, binary_labels, device = 'cuda')\n",
    "    binary_frame.number_of_epochs = 250\n",
    "    binary_frame.learning_rate = 0.00001\n",
    "    binary_frame.setup(256)\n",
    "    binary_frame.train()\n",
    "    binary_frame.test_model()\n",
    "    binary_frame.save_model(binary_model_directory, name = \"model.pt\")\n",
    "    \n",
    "    \n",
    "    \n",
    "    return binary_frame\n",
    "    "
   ]
  },
  {
   "cell_type": "code",
   "execution_count": 3,
   "metadata": {},
   "outputs": [
    {
     "data": {
      "text/plain": [
       "'100%'"
      ]
     },
     "metadata": {},
     "output_type": "display_data"
    },
    {
     "data": {
      "text/plain": [
       "'Epoch 250/250, Train Loss: 0.4812, Val Loss: 0.4733, Precision: 0.3331, Recall: 0.8930, Accuracy: 0.7283'"
      ]
     },
     "metadata": {},
     "output_type": "display_data"
    },
    {
     "name": "stdout",
     "output_type": "stream",
     "text": [
      "Train time: 74.1497802734375\n"
     ]
    }
   ],
   "source": [
    "binary_frame_1 = run_binary_network_weighted()\n",
    "# torch.cuda.empty_cache()\n"
   ]
  },
  {
   "cell_type": "markdown",
   "metadata": {},
   "source": [
    "### Underfitting Binary Network"
   ]
  },
  {
   "cell_type": "code",
   "execution_count": 4,
   "metadata": {},
   "outputs": [],
   "source": [
    "binary_model_directory = \"../model/model-binary-undersampled-001\"\n",
    "\n",
    "binary_features, binary_labels = du.read_in_data(\"../data/dataset_all_H1_bootstrap_O3a.npy\", {0:0,1:1,2:1,3:1,4:1,5:1,6:1})\n",
    "\n",
    "os.makedirs(f\"{binary_model_directory}/figures\", exist_ok=True)\n",
    "\n",
    "def run_binary_network_undersampled():\n",
    "    \n",
    "\n",
    "   \n",
    "\n",
    "    binary_model = ms.GlitchClassifier(6, 32, 2)\n",
    "\n",
    "    binary_frame = mf.GlitchModel(binary_model, binary_features, binary_labels, device = 'cuda')\n",
    "    binary_frame.number_of_epochs = 250\n",
    "    binary_frame.learning_rate = 0.00001\n",
    "    binary_frame.setup(256)\n",
    "    binary_frame.train(True)\n",
    "    binary_frame.test_model()\n",
    "    binary_frame.save_model(binary_model_directory, name = \"model.pt\")\n",
    "    \n",
    "    \n",
    "    \n",
    "    return binary_frame\n",
    "    "
   ]
  },
  {
   "cell_type": "code",
   "execution_count": 5,
   "metadata": {},
   "outputs": [
    {
     "data": {
      "text/plain": [
       "'100%'"
      ]
     },
     "metadata": {},
     "output_type": "display_data"
    },
    {
     "data": {
      "text/plain": [
       "'Epoch 250/250, Train Loss: 0.2945, Val Loss: 0.7272, Precision: 0.2004, Recall: 0.9927, Accuracy: 0.4278'"
      ]
     },
     "metadata": {},
     "output_type": "display_data"
    },
    {
     "name": "stdout",
     "output_type": "stream",
     "text": [
      "Train time: 75.8693208694458\n"
     ]
    }
   ],
   "source": [
    "binary_frame_2 = run_binary_network_undersampled()\n",
    "\n"
   ]
  }
 ],
 "metadata": {
  "kernelspec": {
   "display_name": "base",
   "language": "python",
   "name": "python3"
  },
  "language_info": {
   "codemirror_mode": {
    "name": "ipython",
    "version": 3
   },
   "file_extension": ".py",
   "mimetype": "text/x-python",
   "name": "python",
   "nbconvert_exporter": "python",
   "pygments_lexer": "ipython3",
   "version": "3.11.2"
  }
 },
 "nbformat": 4,
 "nbformat_minor": 2
}
