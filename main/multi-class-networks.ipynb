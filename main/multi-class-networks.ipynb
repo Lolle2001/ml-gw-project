{
 "cells": [
  {
   "cell_type": "code",
   "execution_count": 1,
   "metadata": {},
   "outputs": [],
   "source": [
    "import modelframe as mf\n",
    "import models as ms\n",
    "import numpy as np\n",
    "import torch\n",
    "import matplotlib.pyplot as plt\n",
    "\n",
    "from matplotlib.ticker import (MultipleLocator, AutoMinorLocator)\n",
    "import os\n",
    "\n",
    "import plotutilities as pu\n",
    "import datautilities as du\n"
   ]
  },
  {
   "cell_type": "markdown",
   "metadata": {},
   "source": [
    "### Neural network for event classification into multiple classes\n",
    "The following runs three models where the amount of epochs and type of layers have been varied. There is not a thought behind the choice of layering, it is brute force testing. The \"true\" class is class 0, the \"false\" classes are the classes with labels that are greater than 0."
   ]
  },
  {
   "cell_type": "code",
   "execution_count": 2,
   "metadata": {},
   "outputs": [],
   "source": [
    "multi_model_directory = \"../model/model-multi-uniform-001\"\n",
    "\n",
    "multi_features, multi_labels = du.read_in_data(\"../data/dataset_all_H1_bootstrap_O3a.npy\", {0:0,1:1,2:2,3:3,4:4,5:5,6:6})\n",
    "\n",
    "os.makedirs(f\"{multi_model_directory}/figures\", exist_ok=True)\n",
    "\n",
    "\n",
    "def run_multi_network_uniform():\n",
    "    \n",
    "\n",
    "   \n",
    "\n",
    "    multi_model = ms.GlitchClassifier_MultiClass_Optimized(6, 32, 7)\n",
    "\n",
    "    multi_frame = mf.GlitchModel(multi_model, multi_features, multi_labels,{0:1, 1:1, 2:1, 3:1, 4:1, 5:1, 6:1}, device = 'cuda')\n",
    "    multi_frame.number_of_epochs = 750\n",
    "    multi_frame.learning_rate = 0.00001\n",
    "    # multi_frame.label_weight_set = \n",
    "\n",
    "    multi_frame.setup(512)\n",
    "    multi_frame.train()\n",
    "    multi_frame.test_model()\n",
    "    multi_frame.save_model(multi_model_directory, name = \"model.pt\")\n",
    "    \n",
    "    \n",
    "    \n",
    "    return multi_frame\n",
    "    \n",
    "\n"
   ]
  },
  {
   "cell_type": "code",
   "execution_count": 3,
   "metadata": {},
   "outputs": [
    {
     "data": {
      "text/plain": [
       "'100%'"
      ]
     },
     "metadata": {},
     "output_type": "display_data"
    },
    {
     "data": {
      "text/plain": [
       "'Epoch 750/750, Train Loss: 1.0286, Val Loss: 1.0149, Precision: 0.4480, Recall: 0.6129, Accuracy: 0.6376'"
      ]
     },
     "metadata": {},
     "output_type": "display_data"
    },
    {
     "name": "stdout",
     "output_type": "stream",
     "text": [
      "Train time: 192.21014070510864\n"
     ]
    }
   ],
   "source": [
    "multi_frame_1 = run_multi_network_uniform()"
   ]
  },
  {
   "cell_type": "code",
   "execution_count": 4,
   "metadata": {},
   "outputs": [],
   "source": [
    "multi_model_directory = \"../model/model-multi-uniform-002\"\n",
    "\n",
    "multi_features, multi_labels = du.read_in_data(\"../data/dataset_all_H1_bootstrap_O3a.npy\", {0:0,1:1,2:2,3:3,4:4,5:5,6:6})\n",
    "\n",
    "os.makedirs(f\"{multi_model_directory}/figures\", exist_ok=True)\n",
    "\n",
    "\n",
    "def run_multi_network_uniform_2():\n",
    "    \n",
    "\n",
    "   \n",
    "\n",
    "    multi_model = ms.GlitchClassifier_2(6, 7)\n",
    "\n",
    "    multi_frame = mf.GlitchModel(multi_model, multi_features, multi_labels,{0:1, 1:1, 2:1, 3:1, 4:1, 5:1, 6:1}, device = 'cuda')\n",
    "    multi_frame.number_of_epochs = 1500\n",
    "    multi_frame.learning_rate = 0.000001\n",
    "    # multi_frame.label_weight_set = \n",
    "\n",
    "    multi_frame.setup(256)\n",
    "    multi_frame.train()\n",
    "    multi_frame.test_model()\n",
    "    multi_frame.save_model(multi_model_directory, name = \"model.pt\")\n",
    "    \n",
    "    \n",
    "    \n",
    "    return multi_frame\n",
    "    \n",
    "\n"
   ]
  },
  {
   "cell_type": "code",
   "execution_count": 5,
   "metadata": {},
   "outputs": [
    {
     "data": {
      "text/plain": [
       "'100%'"
      ]
     },
     "metadata": {},
     "output_type": "display_data"
    },
    {
     "data": {
      "text/plain": [
       "'Epoch 1500/1500, Train Loss: 0.7686, Val Loss: 0.8219, Precision: 0.5183, Recall: 0.4083, Accuracy: 0.6899'"
      ]
     },
     "metadata": {},
     "output_type": "display_data"
    },
    {
     "name": "stdout",
     "output_type": "stream",
     "text": [
      "Train time: 533.4704968929291\n"
     ]
    }
   ],
   "source": [
    "frame2 = run_multi_network_uniform_2()"
   ]
  },
  {
   "cell_type": "code",
   "execution_count": 6,
   "metadata": {},
   "outputs": [],
   "source": [
    "\n",
    "\n",
    "multi_model_directory = \"../model/model-multi-uniform-003\"\n",
    "\n",
    "multi_features, multi_labels = du.read_in_data(\"../data/dataset_all_H1_bootstrap_O3a.npy\", {0:0,1:1,2:2,3:3,4:4,5:5,6:6})\n",
    "\n",
    "os.makedirs(f\"{multi_model_directory}/figures\", exist_ok=True)\n",
    "\n",
    "\n",
    "def run_multi_network_uniform_3():\n",
    "    \n",
    "\n",
    "   \n",
    "\n",
    "    multi_model = ms.GlitchClassifier_4(6, 7)\n",
    "\n",
    "    multi_frame = mf.GlitchModel(multi_model, multi_features, multi_labels,{0:1, 1:1, 2:1, 3:1, 4:1, 5:1, 6:1}, device = 'cuda')\n",
    "    multi_frame.number_of_epochs = 150\n",
    "    multi_frame.learning_rate = 0.0001\n",
    "    # multi_frame.label_weight_set = \n",
    "\n",
    "    multi_frame.setup(256)\n",
    "    multi_frame.train()\n",
    "    multi_frame.test_model()\n",
    "    multi_frame.save_model(multi_model_directory, name = \"model.pt\")\n",
    "    \n",
    "    \n",
    "    \n",
    "    return multi_frame\n",
    "    \n",
    "\n"
   ]
  },
  {
   "cell_type": "code",
   "execution_count": 7,
   "metadata": {},
   "outputs": [
    {
     "data": {
      "text/plain": [
       "'100%'"
      ]
     },
     "metadata": {},
     "output_type": "display_data"
    },
    {
     "data": {
      "text/plain": [
       "'Epoch 150/150, Train Loss: 1.4741, Val Loss: 1.4809, Precision: 0.6041, Recall: 0.4802, Accuracy: 0.6839'"
      ]
     },
     "metadata": {},
     "output_type": "display_data"
    },
    {
     "name": "stdout",
     "output_type": "stream",
     "text": [
      "Train time: 48.857990026474\n"
     ]
    }
   ],
   "source": [
    "frame3 = run_multi_network_uniform_3()"
   ]
  }
 ],
 "metadata": {
  "kernelspec": {
   "display_name": "base",
   "language": "python",
   "name": "python3"
  },
  "language_info": {
   "codemirror_mode": {
    "name": "ipython",
    "version": 3
   },
   "file_extension": ".py",
   "mimetype": "text/x-python",
   "name": "python",
   "nbconvert_exporter": "python",
   "pygments_lexer": "ipython3",
   "version": "3.11.2"
  }
 },
 "nbformat": 4,
 "nbformat_minor": 2
}
