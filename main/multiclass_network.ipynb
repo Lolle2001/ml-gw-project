{
 "cells": [
  {
   "cell_type": "code",
   "execution_count": 1,
   "metadata": {},
   "outputs": [],
   "source": [
    "import modelframe as mf\n",
    "import models as ms\n",
    "import numpy as np\n",
    "import torch\n",
    "import matplotlib.pyplot as plt\n",
    "\n",
    "from matplotlib.ticker import (MultipleLocator, AutoMinorLocator)\n",
    "import os\n",
    "\n",
    "import plotutilities as pu\n",
    "import datautilities as du\n"
   ]
  },
  {
   "cell_type": "code",
   "execution_count": 2,
   "metadata": {},
   "outputs": [],
   "source": [
    "multi_model_directory = \"../model/model-multi-uniform-001\"\n",
    "\n",
    "multi_features, multi_labels = du.read_in_data(\"../data/dataset_all_H1_bootstrap_O3a.npy\", {0:0,1:1,2:2,3:3,4:4,5:5,6:6})\n",
    "\n",
    "os.makedirs(f\"{multi_model_directory}/figures\", exist_ok=True)\n",
    "\n",
    "\n",
    "def run_multi_network_uniform():\n",
    "    \n",
    "\n",
    "   \n",
    "\n",
    "    multi_model = ms.GlitchClassifier_MultiClass_Optimized(6, 32, 7)\n",
    "\n",
    "    multi_frame = mf.GlitchModel(multi_model, multi_features, multi_labels,{0:1, 1:1, 2:1, 3:1, 4:1, 5:1, 6:1}, device = 'cuda')\n",
    "    multi_frame.number_of_epochs = 750\n",
    "    multi_frame.learning_rate = 0.00001\n",
    "    # multi_frame.label_weight_set = \n",
    "\n",
    "    multi_frame.setup(256*2)\n",
    "    multi_frame.train()\n",
    "    multi_frame.test_model()\n",
    "    multi_frame.save_model(multi_model_directory, name = \"model.pt\")\n",
    "    \n",
    "    \n",
    "    \n",
    "    return multi_frame\n",
    "    \n",
    "\n"
   ]
  },
  {
   "cell_type": "code",
   "execution_count": 3,
   "metadata": {},
   "outputs": [
    {
     "data": {
      "text/plain": [
       "'100%'"
      ]
     },
     "metadata": {},
     "output_type": "display_data"
    },
    {
     "data": {
      "text/plain": [
       "'Epoch 750/750, Train Loss: 0.9548, Val Loss: 0.9978, Precision: 0.5323, Recall: 0.2637, Accuracy: 0.6624'"
      ]
     },
     "metadata": {},
     "output_type": "display_data"
    },
    {
     "name": "stdout",
     "output_type": "stream",
     "text": [
      "Train time: 189.43271112442017\n"
     ]
    }
   ],
   "source": [
    "multi_frame_1 = run_multi_network_uniform()"
   ]
  }
 ],
 "metadata": {
  "kernelspec": {
   "display_name": "base",
   "language": "python",
   "name": "python3"
  },
  "language_info": {
   "codemirror_mode": {
    "name": "ipython",
    "version": 3
   },
   "file_extension": ".py",
   "mimetype": "text/x-python",
   "name": "python",
   "nbconvert_exporter": "python",
   "pygments_lexer": "ipython3",
   "version": "3.11.2"
  }
 },
 "nbformat": 4,
 "nbformat_minor": 2
}
