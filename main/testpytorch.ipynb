{
 "cells": [
  {
   "cell_type": "code",
   "execution_count": 2,
   "metadata": {},
   "outputs": [
    {
     "name": "stdout",
     "output_type": "stream",
     "text": [
      "Training on CPU...\n",
      "Training completed on cpu in 1.11 seconds\n",
      "\n",
      "Training on GPU...\n",
      "Training completed on cuda in 0.11 seconds\n",
      "\n",
      "Speedup (GPU vs CPU): 9.91x\n"
     ]
    }
   ],
   "source": [
    "import torch\n",
    "import torch.nn as nn\n",
    "import torch.optim as optim\n",
    "import time\n",
    "\n",
    "# Define a simple linear model\n",
    "class SimpleNN(nn.Module):\n",
    "    def __init__(self):\n",
    "        super(SimpleNN, self).__init__()\n",
    "        self.fc1 = nn.Linear(1000, 500)\n",
    "        self.fc2 = nn.Linear(500, 1)\n",
    "\n",
    "    def forward(self, x):\n",
    "        x = torch.relu(self.fc1(x))\n",
    "        x = self.fc2(x)\n",
    "        return x\n",
    "\n",
    "# Function to train the model and measure time\n",
    "def train_model(device, epochs=10):\n",
    "    # Create the model and move to device\n",
    "    model = SimpleNN().to(device)\n",
    "    criterion = nn.MSELoss()\n",
    "    optimizer = optim.SGD(model.parameters(), lr=0.01)\n",
    "\n",
    "    # Generate dummy data\n",
    "    x = torch.randn(10000, 1000).to(device)  # 10,000 samples with 1,000 features\n",
    "    y = torch.randn(10000, 1).to(device)\n",
    "\n",
    "    start_time = time.time()\n",
    "    \n",
    "    # Training loop\n",
    "    for epoch in range(epochs):\n",
    "        optimizer.zero_grad()\n",
    "        outputs = model(x)\n",
    "        loss = criterion(outputs, y)\n",
    "        loss.backward()\n",
    "        optimizer.step()\n",
    "\n",
    "    elapsed_time = time.time() - start_time\n",
    "    print(f\"Training completed on {device} in {elapsed_time:.2f} seconds\")\n",
    "    return elapsed_time\n",
    "\n",
    "# Compare CPU and GPU performance\n",
    "if __name__ == \"__main__\":\n",
    "    # Check if GPU is available\n",
    "    gpu_available = torch.cuda.is_available()\n",
    "    \n",
    "    print(\"Training on CPU...\")\n",
    "    cpu_time = train_model(device=torch.device(\"cpu\"))\n",
    "    \n",
    "    if gpu_available:\n",
    "        print(\"\\nTraining on GPU...\")\n",
    "        gpu_time = train_model(device=torch.device(\"cuda\"))\n",
    "        print(f\"\\nSpeedup (GPU vs CPU): {cpu_time / gpu_time:.2f}x\")\n",
    "    else:\n",
    "        print(\"\\nGPU is not available for comparison.\")\n"
   ]
  }
 ],
 "metadata": {
  "kernelspec": {
   "display_name": "Python 3",
   "language": "python",
   "name": "python3"
  },
  "language_info": {
   "codemirror_mode": {
    "name": "ipython",
    "version": 3
   },
   "file_extension": ".py",
   "mimetype": "text/x-python",
   "name": "python",
   "nbconvert_exporter": "python",
   "pygments_lexer": "ipython3",
   "version": "3.12.3"
  }
 },
 "nbformat": 4,
 "nbformat_minor": 2
}
